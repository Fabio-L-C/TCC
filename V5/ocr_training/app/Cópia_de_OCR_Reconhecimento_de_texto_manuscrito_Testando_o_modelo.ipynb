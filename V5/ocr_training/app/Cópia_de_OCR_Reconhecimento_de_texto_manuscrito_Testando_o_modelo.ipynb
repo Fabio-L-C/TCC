{
  "cells": [
    {
      "cell_type": "markdown",
      "metadata": {
        "id": "ziMVF4U2oeqi"
      },
      "source": [
        "# Reconhecimento de texto manuscrito - testando o modelo"
      ]
    },
    {
      "cell_type": "markdown",
      "metadata": {
        "id": "Ad4eMh9UJbEh"
      },
      "source": [
        "# Importando as bibliotecas"
      ]
    },
    {
      "cell_type": "code",
      "execution_count": null,
      "metadata": {
        "id": "SVygxJYhFja_"
      },
      "outputs": [],
      "source": [
        "import numpy as np\n",
        "import cv2\n",
        "from tensorflow.keras.models import load_model\n",
        "from imutils.contours import sort_contours\n",
        "import imutils\n",
        "#from google.colab.patches import cv2_imshow\n",
        "import pandas as pd\n",
        "import matplotlib.pyplot as plt\n",
        "import seaborn as sns\n",
        "import cv2\n",
        "from sklearn.preprocessing import LabelBinarizer\n",
        "from sklearn.model_selection import train_test_split\n",
        "from sklearn.metrics import classification_report"
      ]
    },
    {
      "cell_type": "markdown",
      "metadata": {
        "id": "aEr1AR_rJg1x"
      },
      "source": [
        "# Carregando a rede neural"
      ]
    },
    {
      "cell_type": "code",
      "execution_count": null,
      "metadata": {
        "colab": {
          "base_uri": "https://localhost:8080/"
        },
        "id": "1iMeVP4nF-9k",
        "outputId": "fd491e40-66ca-4a45-9a15-aff415b22957"
      },
      "outputs": [],
      "source": [
        "from google.colab import drive\n",
        "drive.mount('/content/drive')"
      ]
    },
    {
      "cell_type": "code",
      "execution_count": null,
      "metadata": {
        "colab": {
          "base_uri": "https://localhost:8080/"
        },
        "id": "1_o8KFYWGS4Z",
        "outputId": "416f5045-62a6-45ba-ec39-18b66ccc79af"
      },
      "outputs": [],
      "source": [
        "rede_neural = load_model('src/modelo/rede_neural')\n",
        "rede_neural.summary()"
      ]
    },
    {
      "cell_type": "markdown",
      "metadata": {
        "id": "OF7r6uheJoO7"
      },
      "source": [
        "# Carregando a imagem de teste"
      ]
    },
    {
      "cell_type": "code",
      "execution_count": null,
      "metadata": {
        "colab": {
          "base_uri": "https://localhost:8080/",
          "height": 587
        },
        "id": "8OUaMkpIGeXu",
        "outputId": "9294d773-6f68-49ec-838b-e3a8acdb79ae"
      },
      "outputs": [],
      "source": [
        "img = cv2.imread('src/img/1.png')\n",
        "plt.imshow(img)\n",
        "plt.axis('off')  \n",
        "plt.show()\n",
        "gray = cv2.cvtColor(img, cv2.COLOR_BGR2GRAY)\n",
        "plt.imshow(gray)\n",
        "plt.axis('off')  \n",
        "plt.show()"
      ]
    },
    {
      "cell_type": "markdown",
      "metadata": {
        "id": "3ZQpTJvzOzTK"
      },
      "source": [
        "# Pré-processamento da imagem"
      ]
    },
    {
      "cell_type": "code",
      "execution_count": null,
      "metadata": {
        "colab": {
          "base_uri": "https://localhost:8080/",
          "height": 302
        },
        "id": "EKclupJwH1gW",
        "outputId": "4b4f5aff-634b-4226-c1a3-ea716be42ecd"
      },
      "outputs": [],
      "source": [
        "desfoque = cv2.GaussianBlur(gray, (3,3), 0)\n",
        "plt.imshow(desfoque)\n",
        "plt.axis('off')  \n",
        "plt.show()"
      ]
    },
    {
      "cell_type": "code",
      "execution_count": null,
      "metadata": {
        "colab": {
          "base_uri": "https://localhost:8080/",
          "height": 302
        },
        "id": "Pgo439tRIbqC",
        "outputId": "66be0e1b-b0ff-4fcb-9427-af15e24a8da6"
      },
      "outputs": [],
      "source": [
        "adapt_media = cv2.adaptiveThreshold(desfoque, 255, cv2.ADAPTIVE_THRESH_GAUSSIAN_C, cv2.THRESH_BINARY, 11, 9)\n",
        "plt.imshow(adapt_media)\n",
        "plt.axis('off')  \n",
        "plt.show()"
      ]
    },
    {
      "cell_type": "code",
      "execution_count": null,
      "metadata": {
        "colab": {
          "base_uri": "https://localhost:8080/",
          "height": 302
        },
        "id": "ZbOkVTpnI30O",
        "outputId": "54e9fff7-9c9f-46c3-9f57-1c65dbdeb5b2"
      },
      "outputs": [],
      "source": [
        "inv = 255 - adapt_media\n",
        "plt.imshow(inv)\n",
        "plt.axis('off')  \n",
        "plt.show()"
      ]
    },
    {
      "cell_type": "code",
      "execution_count": null,
      "metadata": {
        "colab": {
          "base_uri": "https://localhost:8080/",
          "height": 302
        },
        "id": "kyZPgEy8JQK6",
        "outputId": "b3d81234-52a6-49d6-809b-890a44511afb"
      },
      "outputs": [],
      "source": [
        "dilatado = cv2.dilate(inv, np.ones((3,3)))\n",
        "plt.imshow(dilatado)\n",
        "plt.axis('off')  \n",
        "plt.show()"
      ]
    },
    {
      "cell_type": "code",
      "execution_count": null,
      "metadata": {
        "colab": {
          "base_uri": "https://localhost:8080/",
          "height": 302
        },
        "id": "8SSCZmEaJ0y_",
        "outputId": "d039a7d7-97ba-4ac2-dee2-79683e918e86"
      },
      "outputs": [],
      "source": [
        "bordas = cv2.Canny(desfoque, 40, 150)\n",
        "plt.imshow(bordas)\n",
        "plt.axis('off')  \n",
        "plt.show()"
      ]
    },
    {
      "cell_type": "code",
      "execution_count": null,
      "metadata": {
        "colab": {
          "base_uri": "https://localhost:8080/",
          "height": 302
        },
        "id": "dXljGWvEKlff",
        "outputId": "4eee1778-2dd4-4479-cd18-05d9a62eff46"
      },
      "outputs": [],
      "source": [
        "dilatado = cv2.dilate(bordas, np.ones((3,3)))\n",
        "plt.imshow(dilatado)\n",
        "plt.axis('off')  \n",
        "plt.show()"
      ]
    },
    {
      "cell_type": "markdown",
      "metadata": {
        "id": "h7HXuxCxEqS1"
      },
      "source": [
        "# Detecção de contornos"
      ]
    },
    {
      "cell_type": "code",
      "execution_count": null,
      "metadata": {
        "id": "I7IACHPYMwNz"
      },
      "outputs": [],
      "source": [
        "def encontrar_contornos(img):\n",
        "  conts = cv2.findContours(img, cv2.RETR_EXTERNAL, cv2.CHAIN_APPROX_SIMPLE)\n",
        "  conts = imutils.grab_contours(conts)\n",
        "  conts = sort_contours(conts, method='left-to-right')[0]\n",
        "  return conts"
      ]
    },
    {
      "cell_type": "code",
      "execution_count": null,
      "metadata": {
        "id": "hd3JpL2_Of6R"
      },
      "outputs": [],
      "source": [
        "conts = encontrar_contornos(dilatado.copy())"
      ]
    },
    {
      "cell_type": "code",
      "execution_count": null,
      "metadata": {
        "colab": {
          "base_uri": "https://localhost:8080/"
        },
        "id": "YbCtV_TBOkXl",
        "outputId": "50fa1528-34b5-471d-9727-dfd0aece924c"
      },
      "outputs": [],
      "source": [
        "conts"
      ]
    },
    {
      "cell_type": "code",
      "execution_count": null,
      "metadata": {
        "id": "zMXAsCb0O30f"
      },
      "outputs": [],
      "source": [
        "l_min, l_max = 4, 160\n",
        "a_min, a_max = 14, 140"
      ]
    },
    {
      "cell_type": "code",
      "execution_count": null,
      "metadata": {
        "colab": {
          "base_uri": "https://localhost:8080/",
          "height": 735
        },
        "id": "0plz-2-hPO4a",
        "outputId": "e7be615d-1f22-4eb4-9fe5-76d6f5433494"
      },
      "outputs": [],
      "source": [
        "caracteres = []\n",
        "img_cp = img.copy()\n",
        "for c in conts:\n",
        "  #print(c)\n",
        "  (x, y, w, h) = cv2.boundingRect(c)\n",
        "  #print(x, y, w, h)\n",
        "  if (w >= l_min and w <= l_max) and (h >= a_min and h <= a_max):\n",
        "    roi = gray[y:y+ h, x:x + w]\n",
        "    #cv2_imshow(roi)\n",
        "    thresh = cv2.threshold(roi, 0, 255, cv2.THRESH_BINARY_INV | cv2.THRESH_OTSU)[1]\n",
        "    plt.imshow(thresh)\n",
        "    plt.axis('off')  \n",
        "    plt.show()\n",
        "    cv2.rectangle(img_cp, (x, y), (x + w, y + h), (255, 100, 0), 2)\n",
        "plt.imshow(img_cp)\n",
        "plt.axis('off')  \n",
        "plt.show()"
      ]
    },
    {
      "cell_type": "markdown",
      "metadata": {
        "id": "5KuoWY8e5Jo-"
      },
      "source": [
        "# Processando os caracteres detectados"
      ]
    },
    {
      "cell_type": "markdown",
      "metadata": {
        "id": "rZLzgZkmmP6A"
      },
      "source": [
        "## Extração ROI\n"
      ]
    },
    {
      "cell_type": "code",
      "execution_count": null,
      "metadata": {
        "id": "EvTeew0MiNpd"
      },
      "outputs": [],
      "source": [
        "def extra_roi(img):\n",
        "  roi = img[y:y + h, x:x + w]\n",
        "  return roi"
      ]
    },
    {
      "cell_type": "markdown",
      "metadata": {
        "id": "O-vh-uyLphnR"
      },
      "source": [
        "## Limiarização"
      ]
    },
    {
      "cell_type": "code",
      "execution_count": null,
      "metadata": {
        "id": "pOeTA0DpifQB"
      },
      "outputs": [],
      "source": [
        "def limiarizacao(img):\n",
        "  thresh = cv2.threshold(img, 0, 255, cv2.THRESH_BINARY_INV | cv2.THRESH_OTSU)[1]\n",
        "  return thresh"
      ]
    },
    {
      "cell_type": "markdown",
      "metadata": {
        "id": "5L3OmVN95T4b"
      },
      "source": [
        "## Redimensionamento"
      ]
    },
    {
      "cell_type": "code",
      "execution_count": null,
      "metadata": {
        "id": "T0u5W8oNiu31"
      },
      "outputs": [],
      "source": [
        "def redimensiona_img(img, l, a):\n",
        "  if l > a:\n",
        "    redimensionada = imutils.resize(img, width=28)\n",
        "  else:\n",
        "    redimensionada = imutils.resize(img, height=28)\n",
        "\n",
        "  (a, l) = redimensionada.shape\n",
        "  dX = int(max(0, 28 - l) / 2.0)\n",
        "  dY = int(max(0, 28 - a) / 2.0)\n",
        "\n",
        "  preenchida = cv2.copyMakeBorder(redimensionada, top=dY, bottom=dY, right=dX, left=dX, borderType=cv2.BORDER_CONSTANT, value=(0,0,0))\n",
        "  preenchida = cv2.resize(preenchida, (28, 28))\n",
        "  return preenchida"
      ]
    },
    {
      "cell_type": "code",
      "execution_count": null,
      "metadata": {
        "colab": {
          "base_uri": "https://localhost:8080/",
          "height": 128
        },
        "id": "umaTIXOtlJDn",
        "outputId": "22c7f2d2-6190-45a5-a2b5-7cdd6252a482"
      },
      "outputs": [],
      "source": [
        "(x, y, w, h) = cv2.boundingRect(conts[6])\n",
        "print(x, y, w, h)\n",
        "img_teste = limiarizacao(gray[y:y+h, x:x+w])\n",
        "plt.imshow(img_teste)\n",
        "plt.axis('off')  \n",
        "plt.show()\n",
        "(a, l) = img_teste.shape\n",
        "print(a, l)\n",
        "img_teste2 = redimensiona_img(img_teste, l, a)\n",
        "plt.imshow(img_teste2)\n",
        "plt.axis('off')  \n",
        "plt.show()\n",
        "img_teste2.shape"
      ]
    },
    {
      "cell_type": "code",
      "execution_count": null,
      "metadata": {
        "colab": {
          "base_uri": "https://localhost:8080/",
          "height": 45
        },
        "id": "DAT8QD5jl8V5",
        "outputId": "2894df0d-59b1-4b21-8ab1-43d612a085d2"
      },
      "outputs": [],
      "source": [
        "plt.imshow(cv2.resize(img_teste, (28,28)))\n",
        "plt.axis('off')  \n",
        "plt.show()"
      ]
    },
    {
      "cell_type": "markdown",
      "metadata": {
        "id": "_RLNulfxoAPe"
      },
      "source": [
        "## Normalização"
      ]
    },
    {
      "cell_type": "code",
      "execution_count": null,
      "metadata": {
        "id": "CzOKwOFCmwWb"
      },
      "outputs": [],
      "source": [
        "def normalizacao(img):\n",
        "  img = img.astype('float32') / 255.0\n",
        "  img = np.expand_dims(img, axis=-1)\n",
        "  return img"
      ]
    },
    {
      "cell_type": "code",
      "execution_count": null,
      "metadata": {
        "colab": {
          "base_uri": "https://localhost:8080/"
        },
        "id": "C0M5KD83nJ0f",
        "outputId": "13e02637-fe97-4336-cd54-44e6953ae020"
      },
      "outputs": [],
      "source": [
        "img_teste2.shape, normalizacao(img_teste2).shape"
      ]
    },
    {
      "cell_type": "markdown",
      "metadata": {
        "id": "STspELE3qDr1"
      },
      "source": [
        "## Processamento das detecções"
      ]
    },
    {
      "cell_type": "code",
      "execution_count": null,
      "metadata": {
        "id": "hE8QRpajnUYN"
      },
      "outputs": [],
      "source": [
        "def processa_caixa(gray, x, y, w, h):\n",
        "  roi = extra_roi(gray)\n",
        "  limiar = limiarizacao(roi)\n",
        "  (a, l) = limiar.shape\n",
        "  redimensionada = redimensiona_img(limiar, l, a)\n",
        "  plt.imshow(redimensionada)\n",
        "  plt.axis('off')  \n",
        "  plt.show()\n",
        "  normalizada = normalizacao(redimensionada)\n",
        "  caracteres.append((normalizada, (x, y, w, h)))"
      ]
    },
    {
      "cell_type": "code",
      "execution_count": null,
      "metadata": {
        "colab": {
          "base_uri": "https://localhost:8080/",
          "height": 437
        },
        "id": "GlUp4TmHnuae",
        "outputId": "68aa0d99-1b23-4cbe-db62-62e9e5d825c3"
      },
      "outputs": [],
      "source": [
        "for c in conts:\n",
        "  #print(c)\n",
        "  (x, y, w, h) = cv2.boundingRect(c)\n",
        "  if (w >= l_min and w <= l_max) and (h >= a_min and h <= a_max):\n",
        "    processa_caixa(gray, x, y, w, h)"
      ]
    },
    {
      "cell_type": "code",
      "execution_count": null,
      "metadata": {
        "colab": {
          "base_uri": "https://localhost:8080/"
        },
        "id": "LI6uijYAobtu",
        "outputId": "9f78b68e-7404-4a5e-90c4-e77261d03d65"
      },
      "outputs": [],
      "source": [
        "caracteres[0]"
      ]
    },
    {
      "cell_type": "code",
      "execution_count": null,
      "metadata": {
        "colab": {
          "base_uri": "https://localhost:8080/"
        },
        "id": "mus509POonoz",
        "outputId": "ac7ee920-74ff-4046-a927-7c58f30698ef"
      },
      "outputs": [],
      "source": [
        "caixas = [caixa[1] for caixa in caracteres]\n",
        "caixas"
      ]
    },
    {
      "cell_type": "code",
      "execution_count": null,
      "metadata": {
        "id": "lcXUh7KAox8i"
      },
      "outputs": [],
      "source": [
        "caracteres = np.array([c[0] for c in caracteres], dtype='float32')"
      ]
    },
    {
      "cell_type": "code",
      "execution_count": null,
      "metadata": {
        "colab": {
          "base_uri": "https://localhost:8080/"
        },
        "id": "s0KxIAN6o9Rq",
        "outputId": "fdb4fefa-4590-4df7-e36a-dfb8427de7fc"
      },
      "outputs": [],
      "source": [
        "caracteres"
      ]
    },
    {
      "cell_type": "markdown",
      "metadata": {
        "id": "EquI0_vleUFZ"
      },
      "source": [
        "# Reconhecimento dos caracteres"
      ]
    },
    {
      "cell_type": "code",
      "execution_count": null,
      "metadata": {
        "id": "un26hE1drvtA"
      },
      "outputs": [],
      "source": [
        "numeros = \"0123456789\"\n",
        "letras = \"ABCDEFGHIJKLMNOPQRSTUVWXYZ\"\n",
        "lista_caracteres = numeros + letras\n",
        "lista_caracteres = [l for l in lista_caracteres]"
      ]
    },
    {
      "cell_type": "code",
      "execution_count": null,
      "metadata": {
        "colab": {
          "base_uri": "https://localhost:8080/"
        },
        "id": "B3CCtLKhr2gb",
        "outputId": "4f57acee-df4e-4a83-8cef-36154b52cf4d"
      },
      "outputs": [],
      "source": [
        "print(lista_caracteres)"
      ]
    },
    {
      "cell_type": "code",
      "execution_count": null,
      "metadata": {
        "colab": {
          "base_uri": "https://localhost:8080/"
        },
        "id": "4-8YIHlisDSD",
        "outputId": "754936b4-7750-43fd-8cd2-8e7c1ddfe074"
      },
      "outputs": [],
      "source": [
        "caracteres[0].shape"
      ]
    },
    {
      "cell_type": "code",
      "execution_count": null,
      "metadata": {
        "colab": {
          "base_uri": "https://localhost:8080/"
        },
        "id": "207aJLDasLgg",
        "outputId": "f5534532-93ff-4b4f-94a5-a95c99fb9a29"
      },
      "outputs": [],
      "source": [
        "caracteres.shape"
      ]
    },
    {
      "cell_type": "code",
      "execution_count": null,
      "metadata": {
        "colab": {
          "base_uri": "https://localhost:8080/"
        },
        "id": "e1jKecknsPeU",
        "outputId": "aa184d44-0e9d-4887-dc68-04fc748449d4"
      },
      "outputs": [],
      "source": [
        "previsoes = rede_neural.predict(caracteres)"
      ]
    },
    {
      "cell_type": "code",
      "execution_count": null,
      "metadata": {
        "colab": {
          "base_uri": "https://localhost:8080/"
        },
        "id": "bOyVaMHDsZ1Y",
        "outputId": "ecd92660-dff4-4a7f-c159-0a7528c7f6ce"
      },
      "outputs": [],
      "source": [
        "previsoes"
      ]
    },
    {
      "cell_type": "code",
      "execution_count": null,
      "metadata": {
        "colab": {
          "base_uri": "https://localhost:8080/"
        },
        "id": "3DC9SLRYsgcj",
        "outputId": "991f0805-a26f-4d21-a06e-a240c1aaa2ea"
      },
      "outputs": [],
      "source": [
        "previsoes.shape"
      ]
    },
    {
      "cell_type": "code",
      "execution_count": null,
      "metadata": {
        "colab": {
          "base_uri": "https://localhost:8080/"
        },
        "id": "6YHHcxDcs14y",
        "outputId": "ce085973-45c5-40f7-99e4-dbbb06f5732f"
      },
      "outputs": [],
      "source": [
        "caixas"
      ]
    },
    {
      "cell_type": "code",
      "execution_count": null,
      "metadata": {
        "colab": {
          "base_uri": "https://localhost:8080/",
          "height": 1000
        },
        "id": "9ZWOCGHPslvo",
        "outputId": "51ddd319-5f92-4e23-c7b0-40cbb0803487"
      },
      "outputs": [],
      "source": [
        "img_cp = img.copy()\n",
        "for (previsoes, (x, y, w, h)) in zip(previsoes, caixas):\n",
        "  i = np.argmax(previsoes)\n",
        "  #print(i)\n",
        "  probabilidade = previsoes[i]\n",
        "  #print(probabilidade)\n",
        "  caractere = lista_caracteres[i]\n",
        "  #print(caractere)\n",
        "\n",
        "  cv2.rectangle(img_cp, (x, y), (x + w, y + h), (255,100,0), 2)\n",
        "  cv2.putText(img_cp, caractere, (x - 10, y - 10), cv2.FONT_HERSHEY_SIMPLEX, 1.1, (0,0,255), 2)\n",
        "  print(caractere, ' -> ', probabilidade * 100)\n",
        "\n",
        "  plt.imshow(img_cp)\n",
        "  plt.axis('off')  \n",
        "  plt.show()"
      ]
    },
    {
      "cell_type": "code",
      "execution_count": null,
      "metadata": {
        "id": "MM9NOfHevzzm"
      },
      "outputs": [],
      "source": [
        "def extrai_roi(img, margem=2):\n",
        "  roi = img[y - margem:y + h + margem, x - margem:x + w + margem]\n",
        "  return roi"
      ]
    },
    {
      "cell_type": "code",
      "execution_count": null,
      "metadata": {
        "colab": {
          "base_uri": "https://localhost:8080/",
          "height": 437
        },
        "id": "zyLumn1sv8Z9",
        "outputId": "36490fa7-1b73-48b1-c2d3-0936a221e3f8"
      },
      "outputs": [],
      "source": [
        "conts = encontrar_contornos(dilatado.copy())\n",
        "caracteres = []\n",
        "for c in conts:\n",
        "  (x, y, w, h) = cv2.boundingRect(c)\n",
        "  if (w >= l_min and w <= l_max) and (h >= a_min and h <= a_max):\n",
        "    processa_caixa(gray, x, y, w, h)"
      ]
    },
    {
      "cell_type": "code",
      "execution_count": null,
      "metadata": {
        "colab": {
          "base_uri": "https://localhost:8080/"
        },
        "id": "bOwIBq1ZwLIz",
        "outputId": "79c058bf-9298-465d-9266-c896a5b48c20"
      },
      "outputs": [],
      "source": [
        "caixas = [b[1] for b in caracteres]\n",
        "caracteres = np.array([c[0] for c in caracteres], dtype=\"float32\")\n",
        "previsoes = rede_neural.predict(caracteres)"
      ]
    },
    {
      "cell_type": "code",
      "execution_count": null,
      "metadata": {
        "colab": {
          "base_uri": "https://localhost:8080/",
          "height": 1000
        },
        "id": "GX49YGKywZvZ",
        "outputId": "24a03543-a327-42ab-cf0c-aee367b05c38"
      },
      "outputs": [],
      "source": [
        "img_cp = img.copy()\n",
        "for (previsoes, (x, y, w, h)) in zip(previsoes, caixas):\n",
        "  i = np.argmax(previsoes)\n",
        "  probabilidade = previsoes[i]\n",
        "  caractere = lista_caracteres[i]\n",
        "\n",
        "  cv2.rectangle(img_cp, (x, y), (x + w, y + h), (255,100,0), 2)\n",
        "  cv2.putText(img_cp, caractere, (x - 10, y - 10), cv2.FONT_HERSHEY_SIMPLEX, 1.1, (0,0,255), 2)\n",
        "  print(caractere, ' -> ', probabilidade * 100)\n",
        "\n",
        "  plt.imshow(img_cp)\n",
        "  plt.axis('off')  \n",
        "  plt.show()"
      ]
    },
    {
      "cell_type": "markdown",
      "metadata": {
        "id": "L7CF4UE3DipD"
      },
      "source": [
        "# Outros testes"
      ]
    },
    {
      "cell_type": "code",
      "execution_count": null,
      "metadata": {
        "id": "RBZ09i5Wxg0g"
      },
      "outputs": [],
      "source": [
        "def preprocessar_img(img):\n",
        "  gray = cv2.cvtColor(img, cv2.COLOR_BGR2GRAY)\n",
        "  desfoque = cv2.GaussianBlur(gray, (3, 3), 7)\n",
        "  bordas = cv2.Canny(desfoque, 40, 150)\n",
        "  dilatado = cv2.dilate(bordas, np.ones((3,3)))\n",
        "  return gray, dilatado"
      ]
    },
    {
      "cell_type": "code",
      "execution_count": null,
      "metadata": {
        "id": "r1SliHvaxkYj"
      },
      "outputs": [],
      "source": [
        "def predicao(previsoes, lista_caracteres):\n",
        "  i = np.argmax(previsoes)\n",
        "  probabilidade = previsoes[i]\n",
        "  caractere = lista_caracteres[i]\n",
        "  return i, probabilidade, caractere"
      ]
    },
    {
      "cell_type": "code",
      "execution_count": null,
      "metadata": {
        "id": "6jRNJ8v9xvh2"
      },
      "outputs": [],
      "source": [
        "def desenhar_na_img(img_cp, caractere):\n",
        "  cv2.rectangle(img_cp, (x, y), (x + w, y + h), (255, 100, 0), 2)\n",
        "  cv2.putText(img_cp, caractere, (x - 10, y - 10),cv2.FONT_HERSHEY_SIMPLEX, 1.1, (0, 0, 255), 2)"
      ]
    },
    {
      "cell_type": "markdown",
      "metadata": {
        "id": "3WEXqbMWIwfi"
      },
      "source": [
        "## O problema do 0 e O, 1 e I, 5 e S"
      ]
    },
    {
      "cell_type": "code",
      "execution_count": null,
      "metadata": {
        "colab": {
          "base_uri": "https://localhost:8080/",
          "height": 302
        },
        "id": "HsS85OtyzDQ3",
        "outputId": "87cafffb-39da-47f9-a519-e07ddb67545e"
      },
      "outputs": [],
      "source": [
        "img = cv2.imread('/content/1.png')\n",
        "cv2_imshow(img)"
      ]
    },
    {
      "cell_type": "code",
      "execution_count": null,
      "metadata": {
        "colab": {
          "base_uri": "https://localhost:8080/",
          "height": 587
        },
        "id": "3oNrDnkJzwlT",
        "outputId": "feee64c0-af80-43e3-a7ef-bc121cd07027"
      },
      "outputs": [],
      "source": [
        "gray, img_processada = preprocessar_img(img)\n",
        "cv2_imshow(gray)\n",
        "cv2_imshow(img_processada)"
      ]
    },
    {
      "cell_type": "code",
      "execution_count": null,
      "metadata": {
        "colab": {
          "base_uri": "https://localhost:8080/",
          "height": 454
        },
        "id": "1UhpCqPv0Ai-",
        "outputId": "2e81c3ec-37f0-4d45-a379-0c99415cf347"
      },
      "outputs": [],
      "source": [
        "conts = encontrar_contornos(img_processada.copy())\n",
        "caracteres = []\n",
        "for c in conts:\n",
        "  (x, y, w, h) = cv2.boundingRect(c)\n",
        "  if (w >= l_min and w <= l_max) and (h >= a_min and h <= a_max):\n",
        "    processa_caixa(gray, x, y, w, h)\n",
        "\n",
        "caixas = [b[1] for b in caracteres]\n",
        "caracteres = np.array([c[0] for c in caracteres], dtype=\"float32\")\n",
        "previsoes = rede_neural.predict(caracteres)"
      ]
    },
    {
      "cell_type": "code",
      "execution_count": null,
      "metadata": {
        "id": "KUPMjvdR1knz"
      },
      "outputs": [],
      "source": [
        "numeros_2 = \"OI234S6789\"\n",
        "letras_2 = \"ABCDEFGHIJKLMNOPQRSTUVWXYZ\"\n",
        "lista_caracteres_2 = numeros_2 + letras_2\n",
        "lista_caracteres_2 = [l for l in lista_caracteres_2]"
      ]
    },
    {
      "cell_type": "code",
      "execution_count": null,
      "metadata": {
        "colab": {
          "base_uri": "https://localhost:8080/",
          "height": 302
        },
        "id": "he3x3rto0QVm",
        "outputId": "3a4cfe3a-8490-4df8-9cf0-f78bdb096ff9"
      },
      "outputs": [],
      "source": [
        "img_cp = img.copy()\n",
        "for (previsoes, (x, y, w, h)) in zip(previsoes, caixas):\n",
        "  i, probabilidade, caractere = predicao(previsoes, lista_caracteres_2)\n",
        "  desenhar_na_img(img_cp, caractere)\n",
        "cv2_imshow(img_cp)"
      ]
    },
    {
      "cell_type": "markdown",
      "metadata": {
        "id": "I6h4Ea0XJHpX"
      },
      "source": [
        "## O problema do texto não detectado"
      ]
    },
    {
      "cell_type": "code",
      "execution_count": null,
      "metadata": {
        "colab": {
          "base_uri": "https://localhost:8080/",
          "height": 580
        },
        "id": "uY7RTRVn3cT1",
        "outputId": "8242e9d2-3736-40e5-8e7e-79ca7740369b"
      },
      "outputs": [],
      "source": [
        "img = cv2.imread('/content/2.png')\n",
        "cv2_imshow(img)"
      ]
    },
    {
      "cell_type": "code",
      "execution_count": null,
      "metadata": {
        "colab": {
          "base_uri": "https://localhost:8080/",
          "height": 1000
        },
        "id": "p4Hb8ZcI3oEl",
        "outputId": "33cfcd0d-6326-4c19-9e37-08fc01d1dc1c"
      },
      "outputs": [],
      "source": [
        "gray, img_processada = preprocessar_img(img)\n",
        "cv2_imshow(gray)\n",
        "cv2_imshow(img_processada)"
      ]
    },
    {
      "cell_type": "code",
      "execution_count": null,
      "metadata": {
        "id": "1Tx_gwTt4ysD"
      },
      "outputs": [],
      "source": [
        "# RETR_EXTERNAL"
      ]
    },
    {
      "cell_type": "code",
      "execution_count": null,
      "metadata": {
        "colab": {
          "base_uri": "https://localhost:8080/",
          "height": 580
        },
        "id": "fRex9dej37BW",
        "outputId": "bdab4cec-54df-4b2f-eea9-7524cd231076"
      },
      "outputs": [],
      "source": [
        "conts = encontrar_contornos(img_processada.copy())\n",
        "img_cp = img.copy()\n",
        "for c in conts:\n",
        "  (x, y, w, h) = cv2.boundingRect(c)\n",
        "  #if (w >= l_min and w <= l_max) and (h >= a_min and h <= a_max):\n",
        "  roi = gray[y:y + h, x:x + w]\n",
        "  thresh = cv2.threshold(roi, 0, 255, cv2.THRESH_BINARY_INV | cv2.THRESH_OTSU)[1]\n",
        "  cv2.rectangle(img_cp, (x, y), (x + w, y + h), (255, 100, 0), 2)\n",
        "cv2_imshow(img_cp)"
      ]
    },
    {
      "cell_type": "code",
      "execution_count": null,
      "metadata": {
        "colab": {
          "base_uri": "https://localhost:8080/"
        },
        "id": "iOl2fSxr5tlJ",
        "outputId": "f1846a7a-1845-4ce3-986c-0fbb5883e245"
      },
      "outputs": [],
      "source": [
        "img.shape"
      ]
    },
    {
      "cell_type": "code",
      "execution_count": null,
      "metadata": {
        "colab": {
          "base_uri": "https://localhost:8080/"
        },
        "id": "UHkGnQvD5nSg",
        "outputId": "da3a04fc-64f6-40c7-a39e-05e9909a6da4"
      },
      "outputs": [],
      "source": [
        "altura, largura = img.shape[:2]\n",
        "print(altura, largura)"
      ]
    },
    {
      "cell_type": "code",
      "execution_count": null,
      "metadata": {
        "id": "mfVH40BP53PD"
      },
      "outputs": [],
      "source": [
        "contornos_tamanho = sorted(conts, key=cv2.contourArea, reverse=True)"
      ]
    },
    {
      "cell_type": "code",
      "execution_count": null,
      "metadata": {
        "colab": {
          "base_uri": "https://localhost:8080/"
        },
        "id": "T8ThmM0_6R2H",
        "outputId": "1d49acd1-2775-4bce-9b2e-80e11b262ac6"
      },
      "outputs": [],
      "source": [
        "contornos_tamanho"
      ]
    },
    {
      "cell_type": "code",
      "execution_count": null,
      "metadata": {
        "colab": {
          "base_uri": "https://localhost:8080/",
          "height": 498
        },
        "id": "1O2K1VGu6Xr5",
        "outputId": "c998891c-24eb-4704-e8f4-b74accbe180c"
      },
      "outputs": [],
      "source": [
        "for c in contornos_tamanho:\n",
        "  (x, y, w, h) = cv2.boundingRect(c)\n",
        "\n",
        "  if (w >= (largura / 2)) and (h >= altura / 2):\n",
        "    corta = 8\n",
        "    img_cortada = img[y+corta:y + h - corta, x+corta:x + w - corta]\n",
        "    cv2_imshow(img_cortada)"
      ]
    },
    {
      "cell_type": "code",
      "execution_count": null,
      "metadata": {
        "colab": {
          "base_uri": "https://localhost:8080/",
          "height": 498
        },
        "id": "5S0japJ07OEI",
        "outputId": "1bfad97a-e11c-4cf8-b763-71ee1d272843"
      },
      "outputs": [],
      "source": [
        "gray, img_processada = preprocessar_img(img_cortada)\n",
        "cv2_imshow(img_processada)"
      ]
    },
    {
      "cell_type": "code",
      "execution_count": null,
      "metadata": {
        "colab": {
          "base_uri": "https://localhost:8080/",
          "height": 1000
        },
        "id": "Lnz1W0v97fR6",
        "outputId": "6c3eed52-750f-4609-f4ba-3da2d1f2ee93"
      },
      "outputs": [],
      "source": [
        "conts = encontrar_contornos(img_processada.copy())\n",
        "caracteres = []\n",
        "for c in conts:\n",
        "  (x, y, w, h) = cv2.boundingRect(c)\n",
        "  if (w >= l_min and w <= l_max) and (h >= a_min and h <= a_max):\n",
        "    processa_caixa(gray, x, y, w, h)\n",
        "\n",
        "caixas = [b[1] for b in caracteres]\n",
        "caracteres = np.array([c[0] for c in caracteres], dtype=\"float32\")\n",
        "\n",
        "previsoes = rede_neural.predict(caracteres)\n",
        "\n",
        "img_cp = img_cortada.copy()\n",
        "\n",
        "# percorre todas as predições e caixas delimitadoras\n",
        "for (previsoes, (x, y, w, h)) in zip(previsoes, caixas):\n",
        "  i, probabilidade, caractere = predicao(previsoes, lista_caracteres)\n",
        "  desenhar_na_img(img_cp, caractere)\n",
        "cv2_imshow(img_cp)"
      ]
    }
  ],
  "metadata": {
    "colab": {
      "provenance": []
    },
    "kernelspec": {
      "display_name": "Python 3",
      "name": "python3"
    },
    "language_info": {
      "codemirror_mode": {
        "name": "ipython",
        "version": 3
      },
      "file_extension": ".py",
      "mimetype": "text/x-python",
      "name": "python",
      "nbconvert_exporter": "python",
      "pygments_lexer": "ipython3",
      "version": "3.11.5"
    }
  },
  "nbformat": 4,
  "nbformat_minor": 0
}
